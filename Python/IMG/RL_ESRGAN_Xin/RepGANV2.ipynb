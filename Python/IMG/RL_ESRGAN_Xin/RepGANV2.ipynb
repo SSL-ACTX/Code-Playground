{
  "nbformat": 4,
  "nbformat_minor": 0,
  "metadata": {
    "colab": {
      "provenance": []
    },
    "kernelspec": {
      "name": "python3",
      "display_name": "Python 3"
    },
    "language_info": {
      "name": "python"
    }
  },
  "cells": [
    {
      "cell_type": "code",
      "execution_count": 1,
      "metadata": {
        "id": "s9xqaM2X6QQx",
        "colab": {
          "base_uri": "https://localhost:8080/"
        },
        "outputId": "29ff9431-014e-48e8-fa47-d4adf251bf82"
      },
      "outputs": [
        {
          "output_type": "stream",
          "name": "stdout",
          "text": [
          ]
        }
      ],
      "source": [
        "!pip install telebot\n",
        "!pip install replicate"
      ]
    },
    {
      "cell_type": "code",
      "source": [
        "import telebot\n",
        "import requests\n",
        "import io\n",
        "import os\n",
        "import replicate\n",
        "from google.colab import files\n",
        "\n",
        "# Initialize Telebot with your bot token\n",
        "bot = telebot.TeleBot(\"your_bot_token\")\n",
        "\n",
        "# Initialize Replicate client\n",
        "client = replicate.Client(api_token='replicate_api_token')\n",
        "\n",
        "# Define a dictionary to store the user's photo file ID and chat ID\n",
        "user_data = {}\n",
        "\n",
        "# Define a function to ask the user for the scale value\n",
        "def ask_for_scale(message):\n",
        "    chat_id = message.chat.id\n",
        "    scale_keyboard = telebot.types.ReplyKeyboardMarkup(one_time_keyboard=True, resize_keyboard=True)\n",
        "    scale_keyboard.add(\"2\", \"4\", \"6\", \"8\") # add available scale options to the keyboard\n",
        "    bot.send_message(chat_id, \"What scale value do you want to use?\", reply_markup=scale_keyboard)\n",
        "    bot.register_next_step_handler(message, get_scale)\n",
        "\n",
        "# Define a function to get the scale value from the user\n",
        "def get_scale(message):\n",
        "    chat_id = message.chat.id\n",
        "    scale = message.text\n",
        "    user_data[chat_id][\"scale\"] = int(scale)\n",
        "    \n",
        "    # Define the version options\n",
        "    version_options = [[\"General - RealESRGANplus\", \"General - v3\"], [\"Anime - anime6B\", \"AnimeVideo - v3\"]]\n",
        "    \n",
        "    # Create a reply keyboard with the version options\n",
        "    keyboard = telebot.types.ReplyKeyboardMarkup(resize_keyboard=True, one_time_keyboard=True)\n",
        "    keyboard.add(*[telebot.types.KeyboardButton(version_option) for version_option in version_options[0]])\n",
        "    keyboard.add(*[telebot.types.KeyboardButton(version_option) for version_option in version_options[1]])\n",
        "    \n",
        "    # Ask the user for the version selection\n",
        "    bot.send_message(chat_id, \"What version do you want to use?\", reply_markup=keyboard)\n",
        "    bot.register_next_step_handler(message, get_version)\n",
        "\n",
        "# Define a function to get the version value from the user\n",
        "def get_version(message):\n",
        "    chat_id = message.chat.id\n",
        "    version = message.text\n",
        "    user_data[chat_id][\"version\"] = version\n",
        "    process_image(chat_id)\n",
        "\n",
        "# Define a function to process the image using Replicate\n",
        "def process_image(chat_id):\n",
        "    file_id = user_data[chat_id][\"file_id\"]\n",
        "    scale = user_data[chat_id][\"scale\"]\n",
        "    version = user_data[chat_id][\"version\"]\n",
        "    \n",
        "    # Download the photo file using the Telegram bot API\n",
        "    file_info = bot.get_file(file_id)\n",
        "    file_url = f\"https://api.telegram.org/file/bot{bot.token}/{file_info.file_path}\"\n",
        "    photo_content = requests.get(file_url).content\n",
        "    \n",
        "    # Save the photo to a local file\n",
        "    with open(\"input.png\", \"wb\") as f:\n",
        "        f.write(photo_content)\n",
        "    \n",
        "    # Process the image using Replicate\n",
        "    options = {}\n",
        "    output = client.run(\n",
        "        \"xinntao/realesrgan:1b976a4d456ed9e4d1a846597b7614e79eadad3032e9124fa63859db0fd59b56\",\n",
        "        input={\"img\": open(\"input.png\", \"rb\"), \"scale\": scale, \"version\": version, \"tile\": 200},\n",
        "        options=options\n",
        "    )\n",
        "    \n",
        "    # Download the output file from Replicate\n",
        "    output_content = requests.get(output).content\n",
        "    \n",
        "    # Send the output image back to the user\n",
        "    bot.send_photo(chat_id, io.BytesIO(output_content))\n",
        "    \n",
        "    # Send a message to indicate that the processing is completed\n",
        "    bot.send_message(chat_id, \"Image processing completed!\")\n",
        "\n",
        "# Define a message handler for photos\n",
        "@bot.message_handler(content_types=['photo'])\n",
        "def handle_photo(message):\n",
        "    chat_id = message.chat.id\n",
        "    file_id = message.photo[-1].file_id\n",
        "    user_data[chat_id] = {\"file_id\": file_id}\n",
        "    ask_for_scale(message)\n",
        "\n",
        "# Start the bot\n",
        "bot.polling()\n"
      ],
      "metadata": {
        "id": "5ywAXaUR6bIF"
      },
      "execution_count": null,
      "outputs": []
    }
  ]
}
