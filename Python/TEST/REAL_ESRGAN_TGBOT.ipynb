{
  "cells": [
    {
      "cell_type": "code",
      "execution_count": null,
      "metadata": {
        "id": "hlhsofI_aYBk"
      },
      "outputs": [],
      "source": [
        "!pip install git+https://github.com/sberbank-ai/Real-ESRGAN.git\n",
        "!pip install telebot"
      ]
    },
    {
      "cell_type": "code",
      "execution_count": null,
      "metadata": {
        "cellView": "form",
        "id": "-5slLHEPdjjQ"
      },
      "outputs": [],
      "source": [
        "#@title Create model\n",
        "from RealESRGAN import RealESRGAN\n",
        "from PIL import Image\n",
        "import numpy as np\n",
        "import torch\n",
        "\n",
        "device = torch.device('cuda' if torch.cuda.is_available() else 'cpu')\n",
        "print('device:', device)\n",
        "\n",
        "model_scale = \"4\" #@param [\"2\", \"4\", \"8\"] {allow-input: false}\n",
        "\n",
        "model = RealESRGAN(device, scale=int(model_scale))\n",
        "model.load_weights(f'weights/RealESRGAN_x{model_scale}.pth')"
      ]
    },
    {
      "cell_type": "code",
      "execution_count": null,
      "metadata": {
        "colab": {
          "base_uri": "https://localhost:8080/"
        },
        "id": "ZcZIgS0gafPI",
        "outputId": "19b764b5-1346-4e9f-ca14-03d59c1540b3",
        "collapsed": true
      },
      "outputs": [
        {
          "output_type": "stream",
          "name": "stdout",
          "text": [
            "Finished! Image saved to results/result.jpg\n"
          ]
        }
      ],
      "source": [
        "import os\n",
        "from google.colab import files\n",
        "from io import BytesIO\n",
        "import telebot\n",
        "from PIL import Image\n",
        "import numpy as np\n",
        "\n",
        "upload_folder = 'inputs'\n",
        "result_folder = 'results'\n",
        "\n",
        "bot = telebot.TeleBot('telegram_bot_token')\n",
        "\n",
        "os.makedirs(upload_folder, exist_ok=True)\n",
        "os.makedirs(result_folder, exist_ok=True)\n",
        "\n",
        "IMAGE_FORMATS = ('.png', '.jpg', '.jpeg', '.tiff', '.bmp', '.gif')\n",
        "\n",
        "MAX_DIMENSION = 5000  # Maximum dimension for the image\n",
        "\n",
        "def process_image(image_bytes, image_name, chat_id):\n",
        "    try:\n",
        "        image = Image.open(BytesIO(image_bytes)).convert('RGB')\n",
        "\n",
        "        # Resize the image if it exceeds the maximum dimension\n",
        "        if max(image.width, image.height) > MAX_DIMENSION:\n",
        "            ratio = MAX_DIMENSION / max(image.width, image.height)\n",
        "            size = (int(image.width * ratio), int(image.height * ratio))\n",
        "            image = image.resize(size)\n",
        "\n",
        "        sr_image = model.predict(np.array(image))\n",
        "    except Exception as err:\n",
        "        print(f'Unable to process file {image_name}, skipping')\n",
        "        return\n",
        "\n",
        "    result_image_path = os.path.join('results/', 'result.jpg')\n",
        "    os.makedirs(os.path.dirname(result_image_path), exist_ok=True)\n",
        "    sr_image.save(result_image_path)\n",
        "\n",
        "    # send the result image to the user who sent the original photo\n",
        "    with open(result_image_path, 'rb') as f:\n",
        "        bot.send_photo(chat_id=chat_id, photo=f)\n",
        "\n",
        "    bot.send_message(chat_id=chat_id, text=\"Upscale complete!\")\n",
        "\n",
        "    print(f'Finished! Image saved to {result_image_path}')\n",
        "\n",
        "@bot.message_handler(content_types=['photo'])\n",
        "def handle_photo(message):\n",
        "    chat_id = message.chat.id\n",
        "    file_info = bot.get_file(message.photo[-1].file_id)\n",
        "    file_bytes = bot.download_file(file_info.file_path)\n",
        "    \n",
        "    if len(file_bytes) > 0 and file_bytes[:4] == b'\\x1f\\x8b\\x08\\x00':\n",
        "        print('gzip format detected, skipping')\n",
        "        return\n",
        "        \n",
        "    image_name = 'input.jpg'\n",
        "    process_image(file_bytes, image_name, chat_id)\n",
        "\n",
        "bot.polling() # start listening for incoming messages"
      ]
    }
  ],
  "metadata": {
    "accelerator": "GPU",
    "colab": {
      "provenance": []
    },
    "gpuClass": "standard",
    "kernelspec": {
      "display_name": "Python 3",
      "name": "python3"
    },
    "language_info": {
      "name": "python"
    }
  },
  "nbformat": 4,
  "nbformat_minor": 0
}